{
  "cells": [
    {
      "cell_type": "code",
      "execution_count": null,
      "metadata": {
        "colab": {
          "base_uri": "https://localhost:8080/"
        },
        "id": "hqJtSE02WvB5",
        "outputId": "15c8536c-a785-4cc0-e49b-81fe6413c1ea"
      },
      "outputs": [
        {
          "output_type": "stream",
          "name": "stdout",
          "text": [
            "Mounted at /content/drive\n"
          ]
        }
      ],
      "source": [
        "from google.colab import drive\n",
        "drive.mount('/content/drive')"
      ]
    },
    {
      "cell_type": "code",
      "execution_count": null,
      "metadata": {
        "id": "q2Ku3wnyWmBr"
      },
      "outputs": [],
      "source": [
        "#import libraries\n",
        "import numpy as np\n",
        "import pandas as pd \n",
        "import tensorflow as tf\n",
        "import nltk\n",
        "import seaborn as sns\n",
        "import re\n",
        "import matplotlib.pyplot as plt\n",
        "\n",
        "from tensorflow.keras.layers import Embedding, Dense, LSTM, Dropout, Bidirectional\n",
        "from tensorflow.keras.preprocessing.sequence import pad_sequences\n",
        "from tensorflow.keras.models import Sequential\n",
        "from tensorflow.keras.preprocessing.text import one_hot, Tokenizer\n",
        "from tensorflow.keras.callbacks import ModelCheckpoint\n",
        "from nltk.corpus import stopwords\n",
        "from nltk.stem.porter import PorterStemmer\n",
        "from sklearn import preprocessing\n",
        "from sklearn.model_selection import train_test_split\n",
        "from sklearn.metrics import accuracy_score, classification_report, confusion_matrix\n",
        "from tensorflow.keras.preprocessing.text import Tokenizer\n",
        "from tensorflow.keras.preprocessing.sequence import pad_sequences"
      ]
    },
    {
      "cell_type": "code",
      "execution_count": null,
      "metadata": {
        "colab": {
          "base_uri": "https://localhost:8080/",
          "height": 206
        },
        "id": "Xl3MgzMGWmBv",
        "outputId": "4e93b30b-90ad-4185-a079-04d99b4f3aa1"
      },
      "outputs": [
        {
          "output_type": "execute_result",
          "data": {
            "text/plain": [
              "   Emotion                                               Text\n",
              "0  neutral                                             Why ? \n",
              "1      joy    Sage Act upgrade on my to do list for tommorow.\n",
              "2  sadness  ON THE WAY TO MY HOMEGIRL BABY FUNERAL!!! MAN ...\n",
              "3      joy   Such an eye ! The true hazel eye-and so brill...\n",
              "4      joy  @Iluvmiasantos ugh babe.. hugggzzz for u .!  b..."
            ],
            "text/html": [
              "\n",
              "  <div id=\"df-5773ce9e-32de-4dbc-bb2a-1f111368a6c9\">\n",
              "    <div class=\"colab-df-container\">\n",
              "      <div>\n",
              "<style scoped>\n",
              "    .dataframe tbody tr th:only-of-type {\n",
              "        vertical-align: middle;\n",
              "    }\n",
              "\n",
              "    .dataframe tbody tr th {\n",
              "        vertical-align: top;\n",
              "    }\n",
              "\n",
              "    .dataframe thead th {\n",
              "        text-align: right;\n",
              "    }\n",
              "</style>\n",
              "<table border=\"1\" class=\"dataframe\">\n",
              "  <thead>\n",
              "    <tr style=\"text-align: right;\">\n",
              "      <th></th>\n",
              "      <th>Emotion</th>\n",
              "      <th>Text</th>\n",
              "    </tr>\n",
              "  </thead>\n",
              "  <tbody>\n",
              "    <tr>\n",
              "      <th>0</th>\n",
              "      <td>neutral</td>\n",
              "      <td>Why ?</td>\n",
              "    </tr>\n",
              "    <tr>\n",
              "      <th>1</th>\n",
              "      <td>joy</td>\n",
              "      <td>Sage Act upgrade on my to do list for tommorow.</td>\n",
              "    </tr>\n",
              "    <tr>\n",
              "      <th>2</th>\n",
              "      <td>sadness</td>\n",
              "      <td>ON THE WAY TO MY HOMEGIRL BABY FUNERAL!!! MAN ...</td>\n",
              "    </tr>\n",
              "    <tr>\n",
              "      <th>3</th>\n",
              "      <td>joy</td>\n",
              "      <td>Such an eye ! The true hazel eye-and so brill...</td>\n",
              "    </tr>\n",
              "    <tr>\n",
              "      <th>4</th>\n",
              "      <td>joy</td>\n",
              "      <td>@Iluvmiasantos ugh babe.. hugggzzz for u .!  b...</td>\n",
              "    </tr>\n",
              "  </tbody>\n",
              "</table>\n",
              "</div>\n",
              "      <button class=\"colab-df-convert\" onclick=\"convertToInteractive('df-5773ce9e-32de-4dbc-bb2a-1f111368a6c9')\"\n",
              "              title=\"Convert this dataframe to an interactive table.\"\n",
              "              style=\"display:none;\">\n",
              "        \n",
              "  <svg xmlns=\"http://www.w3.org/2000/svg\" height=\"24px\"viewBox=\"0 0 24 24\"\n",
              "       width=\"24px\">\n",
              "    <path d=\"M0 0h24v24H0V0z\" fill=\"none\"/>\n",
              "    <path d=\"M18.56 5.44l.94 2.06.94-2.06 2.06-.94-2.06-.94-.94-2.06-.94 2.06-2.06.94zm-11 1L8.5 8.5l.94-2.06 2.06-.94-2.06-.94L8.5 2.5l-.94 2.06-2.06.94zm10 10l.94 2.06.94-2.06 2.06-.94-2.06-.94-.94-2.06-.94 2.06-2.06.94z\"/><path d=\"M17.41 7.96l-1.37-1.37c-.4-.4-.92-.59-1.43-.59-.52 0-1.04.2-1.43.59L10.3 9.45l-7.72 7.72c-.78.78-.78 2.05 0 2.83L4 21.41c.39.39.9.59 1.41.59.51 0 1.02-.2 1.41-.59l7.78-7.78 2.81-2.81c.8-.78.8-2.07 0-2.86zM5.41 20L4 18.59l7.72-7.72 1.47 1.35L5.41 20z\"/>\n",
              "  </svg>\n",
              "      </button>\n",
              "      \n",
              "  <style>\n",
              "    .colab-df-container {\n",
              "      display:flex;\n",
              "      flex-wrap:wrap;\n",
              "      gap: 12px;\n",
              "    }\n",
              "\n",
              "    .colab-df-convert {\n",
              "      background-color: #E8F0FE;\n",
              "      border: none;\n",
              "      border-radius: 50%;\n",
              "      cursor: pointer;\n",
              "      display: none;\n",
              "      fill: #1967D2;\n",
              "      height: 32px;\n",
              "      padding: 0 0 0 0;\n",
              "      width: 32px;\n",
              "    }\n",
              "\n",
              "    .colab-df-convert:hover {\n",
              "      background-color: #E2EBFA;\n",
              "      box-shadow: 0px 1px 2px rgba(60, 64, 67, 0.3), 0px 1px 3px 1px rgba(60, 64, 67, 0.15);\n",
              "      fill: #174EA6;\n",
              "    }\n",
              "\n",
              "    [theme=dark] .colab-df-convert {\n",
              "      background-color: #3B4455;\n",
              "      fill: #D2E3FC;\n",
              "    }\n",
              "\n",
              "    [theme=dark] .colab-df-convert:hover {\n",
              "      background-color: #434B5C;\n",
              "      box-shadow: 0px 1px 3px 1px rgba(0, 0, 0, 0.15);\n",
              "      filter: drop-shadow(0px 1px 2px rgba(0, 0, 0, 0.3));\n",
              "      fill: #FFFFFF;\n",
              "    }\n",
              "  </style>\n",
              "\n",
              "      <script>\n",
              "        const buttonEl =\n",
              "          document.querySelector('#df-5773ce9e-32de-4dbc-bb2a-1f111368a6c9 button.colab-df-convert');\n",
              "        buttonEl.style.display =\n",
              "          google.colab.kernel.accessAllowed ? 'block' : 'none';\n",
              "\n",
              "        async function convertToInteractive(key) {\n",
              "          const element = document.querySelector('#df-5773ce9e-32de-4dbc-bb2a-1f111368a6c9');\n",
              "          const dataTable =\n",
              "            await google.colab.kernel.invokeFunction('convertToInteractive',\n",
              "                                                     [key], {});\n",
              "          if (!dataTable) return;\n",
              "\n",
              "          const docLinkHtml = 'Like what you see? Visit the ' +\n",
              "            '<a target=\"_blank\" href=https://colab.research.google.com/notebooks/data_table.ipynb>data table notebook</a>'\n",
              "            + ' to learn more about interactive tables.';\n",
              "          element.innerHTML = '';\n",
              "          dataTable['output_type'] = 'display_data';\n",
              "          await google.colab.output.renderOutput(dataTable, element);\n",
              "          const docLink = document.createElement('div');\n",
              "          docLink.innerHTML = docLinkHtml;\n",
              "          element.appendChild(docLink);\n",
              "        }\n",
              "      </script>\n",
              "    </div>\n",
              "  </div>\n",
              "  "
            ]
          },
          "metadata": {},
          "execution_count": 18
        }
      ],
      "source": [
        "df=pd.read_csv('/content/drive/MyDrive/NLP/emotion_dataset_2 (1).csv') #Text data\n",
        "#EMBEDDING_FILE= f'C:/Users/nlp/Documents/python/NLP/glove.6B/glove.6B.100d.txt' #GloVe file path\n",
        "df.head()"
      ]
    },
    {
      "cell_type": "code",
      "execution_count": null,
      "metadata": {
        "colab": {
          "base_uri": "https://localhost:8080/",
          "height": 351
        },
        "id": "QbFr1oDHWmBw",
        "outputId": "1f92b7f5-6eec-4240-cfc0-0d7ca7c21af0"
      },
      "outputs": [
        {
          "output_type": "stream",
          "name": "stderr",
          "text": [
            "/usr/local/lib/python3.7/dist-packages/seaborn/_decorators.py:43: FutureWarning: Pass the following variable as a keyword arg: x. From version 0.12, the only valid positional argument will be `data`, and passing other arguments without an explicit keyword will result in an error or misinterpretation.\n",
            "  FutureWarning\n"
          ]
        },
        {
          "output_type": "execute_result",
          "data": {
            "text/plain": [
              "<matplotlib.axes._subplots.AxesSubplot at 0x7fb29cb2be10>"
            ]
          },
          "metadata": {},
          "execution_count": 4
        },
        {
          "output_type": "display_data",
          "data": {
            "text/plain": [
              "<Figure size 432x288 with 1 Axes>"
            ],
            "image/png": "[encoded data removed]"
          },
          "metadata": {
            "needs_background": "light"
          }
        }
      ],
      "source": [
        "#Target Classes\n",
        "sns.countplot(df['Emotion']) "
      ]
    },
    {
      "cell_type": "code",
      "execution_count": null,
      "metadata": {
        "id": "Gpx_-PIAWmBx"
      },
      "outputs": [],
      "source": [
        "df=df.dropna() #Drop columns with NA values\n",
        "X=df.drop('Emotion',axis=1) #Input\n",
        "y=df['Emotion'] #Output"
      ]
    },
    {
      "cell_type": "code",
      "execution_count": null,
      "metadata": {
        "id": "UuFG5FqKWmBx"
      },
      "outputs": [],
      "source": [
        "messages=X.copy()\n",
        "messages.reset_index(inplace=True) #Drop NA may cause inconsistency in index"
      ]
    },
    {
      "cell_type": "code",
      "execution_count": null,
      "metadata": {
        "colab": {
          "base_uri": "https://localhost:8080/"
        },
        "id": "dQ2wndhVWmBy",
        "outputId": "d34a6117-7f41-42e9-f7ba-253307aa8fca"
      },
      "outputs": [
        {
          "output_type": "stream",
          "name": "stderr",
          "text": [
            "[nltk_data] Downloading package stopwords to /root/nltk_data...\n",
            "[nltk_data]   Package stopwords is already up-to-date!\n"
          ]
        }
      ],
      "source": [
        "nltk.download('stopwords')\n",
        "ps = PorterStemmer()\n",
        "corpus = []\n",
        "for i in range(0, len(messages)):\n",
        "    review = re.sub('[^a-zA-Z]', ' ', messages['Text'][i]) #Remove Special Characters\n",
        "    review = review.lower() #Lower case \n",
        "    review = review.split()\n",
        "    review = [ps.stem(word) for word in review if not word in stopwords.words('english')] #Remove stopwords\n",
        "    review = ' '.join(review)\n",
        "    corpus.append(review)"
      ]
    },
    {
      "cell_type": "code",
      "execution_count": null,
      "metadata": {
        "colab": {
          "base_uri": "https://localhost:8080/"
        },
        "id": "qsaQqamfWmBz",
        "outputId": "5b9af9a5-6998-42c0-8d7c-1aaf978b8716"
      },
      "outputs": [
        {
          "output_type": "execute_result",
          "data": {
            "text/plain": [
              "['',\n",
              " 'sage act upgrad list tommorow',\n",
              " 'way homegirl babi funer man hate funer realli show bless',\n",
              " 'eye true hazel eye brilliant regular featur open counten complexion oh bloom full health pretti height size firm upright figur health mere bloom air head glanc one hear sometim child pictur health alway give idea complet pictur grown health loveli',\n",
              " 'iluvmiasanto ugh babe hugggzzz u babe naamaz nga ako e babe e despit nega ma pinaramdam fil ko ang',\n",
              " 'expect extrem import phonecal minut terror opportun',\n",
              " 'couldnt wait see live miss nh wasnt pain enuf suraj perform last gig delhi',\n",
              " 'maken tip stop op een moment dat je het hele project wel ziet zitten nu du derestkomtlaterwel',\n",
              " 'en dan krijg je ff een cadeautj van een tweep melik',\n",
              " 'drummer boy bij op verzoek van biemoosterhof frankcornet welk uitvoer van wie']"
            ]
          },
          "metadata": {},
          "execution_count": 9
        }
      ],
      "source": [
        "corpus[:10]"
      ]
    },
    {
      "cell_type": "code",
      "execution_count": null,
      "metadata": {
        "colab": {
          "base_uri": "https://localhost:8080/"
        },
        "id": "DanaQANgWmBz",
        "outputId": "2914a4fd-9d24-4333-aec6-272f75c6485b"
      },
      "outputs": [
        {
          "output_type": "stream",
          "name": "stdout",
          "text": [
            "Number of unique words in dictionary= 28585\n",
            "Dense vector for first word is =>  [ 7.36779999e-03  6.25320002e-02 -9.74320024e-02  2.82889992e-01\n",
            "  1.79069996e-01  1.55630007e-01 -6.00220002e-02 -1.87059999e-01\n",
            "  2.52200007e-01 -1.43659997e+00  1.83960006e-01 -4.11540002e-01\n",
            " -2.47209996e-01 -2.89240003e-01  2.27329999e-01  9.33770016e-02\n",
            " -1.30050004e-01 -2.37379998e-01  2.97340006e-01  3.92870009e-01\n",
            "  2.46020004e-01  1.37779996e-01  5.04310012e-01 -1.96400002e-01\n",
            " -1.96079999e-01  3.03199999e-02  1.74940005e-01  1.50950000e-01\n",
            " -9.30700004e-02 -8.15420002e-02  1.37449995e-01  2.66009986e-01\n",
            "  2.61099994e-01 -3.29400003e-01 -1.25039995e+00  3.54400016e-02\n",
            " -9.02659968e-02  2.11370006e-01 -2.44629994e-01 -1.05710000e-01\n",
            " -1.61099993e-02 -5.27719975e-01 -2.95199990e-01 -1.26179993e-01\n",
            " -2.51940012e-01 -2.86819991e-02  6.00709975e-01  5.56989983e-02\n",
            " -5.31440005e-02  9.40390006e-02 -7.34390020e-02 -1.37180001e-01\n",
            " -1.90239996e-02 -1.97290003e-01 -2.43379995e-01  2.57360011e-01\n",
            " -8.53620023e-02  2.71019995e-01 -3.73479992e-01  2.46319994e-01\n",
            "  1.71920002e-01  8.48739967e-02 -1.43470004e-01  3.24010015e-01\n",
            " -1.48300007e-01 -3.91110003e-01  4.22659993e-01 -9.81239974e-02\n",
            "  1.80999994e-01 -2.96149999e-01  2.44499996e-01 -1.28299996e-01\n",
            " -1.58680007e-01  1.97899997e-01  4.07409996e-01 -1.27990007e-01\n",
            " -4.31529991e-02  2.15910003e-01 -3.22589986e-02 -2.97030002e-01\n",
            " -9.56529984e-04 -1.67860001e-01  3.14229995e-01 -7.82729983e-02\n",
            " -1.80010006e-01  4.80660014e-02 -2.19730005e-01  2.66759992e-01\n",
            "  9.97610018e-03 -6.35690019e-02 -4.10200000e-01  2.98880011e-01\n",
            " -1.98540002e-01 -5.25390029e-01 -1.13020003e-01  5.18919993e-03\n",
            " -4.46900010e-01 -2.35609993e-01 -3.23299989e-02 -3.15109998e-01]\n"
          ]
        }
      ],
      "source": [
        "# code for Glove word embedding  \n",
        "# create the dict.\n",
        "tokenizer = Tokenizer()\n",
        "tokenizer.fit_on_texts(corpus)\n",
        "  \n",
        "# number of unique words in dict.\n",
        "print(\"Number of unique words in dictionary=\", len(tokenizer.word_index))\n",
        "#print(\"Dictionary is = \", tokenizer.word_index)\n",
        "  \n",
        "# download glove and unzip it in Notebook.\n",
        "# http://nlp.stanford.edu/data/glove.6B.zip\n",
        "\n",
        "def embedding_for_vocab(filepath, word_index, embedding_dim):\n",
        "    vocab_size = len(word_index) + 1\n",
        "    # Adding again 1 because of reserved 0 index\n",
        "    embedding_matrix_vocab = np.zeros((vocab_size, embedding_dim))\n",
        "    with open(filepath, encoding=\"utf8\") as f:\n",
        "        for line in f:\n",
        "            word, *vector = line.split()\n",
        "            if word in word_index:\n",
        "                idx = word_index[word]\n",
        "                embedding_matrix_vocab[idx] = np.array(vector, dtype=np.float32)[:embedding_dim]\n",
        "    return embedding_matrix_vocab\n",
        "    \n",
        "# matrix for vocab: word_index\n",
        "embedding_dim = 100\n",
        "embedding_matrix_vocab = embedding_for_vocab('/content/drive/MyDrive/NLP/glove.6B.300d.txt', tokenizer.word_index, embedding_dim)\n",
        "print(\"Dense vector for first word is => \", embedding_matrix_vocab[1])"
      ]
    },
    {
      "cell_type": "code",
      "execution_count": null,
      "metadata": {
        "colab": {
          "base_uri": "https://localhost:8080/"
        },
        "id": "FXPtiwzPWmB0",
        "outputId": "d51beb6f-0d3d-4d99-a3cb-0ce83b9cade2"
      },
      "outputs": [
        {
          "output_type": "stream",
          "name": "stdout",
          "text": [
            "28586\n"
          ]
        }
      ],
      "source": [
        "#Contains the pretrained GloVe weights for the words\n",
        "voc_size=len(embedding_matrix_vocab)\n",
        "print(voc_size)"
      ]
    },
    {
      "cell_type": "code",
      "execution_count": null,
      "metadata": {
        "colab": {
          "base_uri": "https://localhost:8080/"
        },
        "id": "5thjYhicWmB1",
        "outputId": "c1ece7da-ae07-48b8-99bd-8a5df11338c0"
      },
      "outputs": [
        {
          "output_type": "stream",
          "name": "stdout",
          "text": [
            "[[    0     0     0 ...     0     0     0]\n",
            " [    0     0     0 ... 22371 23923 11664]\n",
            " [    0     0     0 ...  3937 18077  4225]\n",
            " ...\n",
            " [    0     0     0 ...  7096 11018 15845]\n",
            " [    0     0     0 ... 23207 26337 24975]\n",
            " [    0     0     0 ... 10891 12265 16643]]\n"
          ]
        }
      ],
      "source": [
        "#One hot representation for input\n",
        "onehot_repr=[one_hot(words, voc_size)for words in corpus]\n",
        "\n",
        "#Finding max words\n",
        "l = 0\n",
        "for x in corpus:\n",
        "    l = max(l,len(x.split(' ')))\n",
        "\n",
        "#Padding the sequences for input\n",
        "sent_length= l\n",
        "embedded_docs=pad_sequences(onehot_repr,padding='pre',maxlen=sent_length)\n",
        "print(embedded_docs)"
      ]
    },
    {
      "cell_type": "code",
      "execution_count": null,
      "metadata": {
        "colab": {
          "base_uri": "https://localhost:8080/"
        },
        "id": "I20N7VnXWmB1",
        "outputId": "63a23a98-8e79-4a93-b41f-22402918271d"
      },
      "outputs": [
        {
          "output_type": "stream",
          "name": "stdout",
          "text": [
            "[4 3 5 ... 0 2 5]\n"
          ]
        }
      ],
      "source": [
        "#Encoding the target outputs to integers\n",
        "label_encoder = preprocessing.LabelEncoder()\n",
        "\n",
        "X_final=np.array(embedded_docs) #input to array\n",
        "y = label_encoder.fit_transform(y)\n",
        "y_final=np.array(y)\n",
        "print(y_final)"
      ]
    },
    {
      "cell_type": "code",
      "execution_count": null,
      "metadata": {
        "colab": {
          "base_uri": "https://localhost:8080/"
        },
        "id": "XUBQIPl1WmB2",
        "outputId": "880168cb-a2d3-4e74-f9e8-da6fcd5a446f"
      },
      "outputs": [
        {
          "output_type": "execute_result",
          "data": {
            "text/plain": [
              "((34792, 100), (34792,))"
            ]
          },
          "metadata": {},
          "execution_count": 14
        }
      ],
      "source": [
        "X_final.shape,y_final.shape"
      ]
    },
    {
      "cell_type": "code",
      "execution_count": null,
      "metadata": {
        "id": "RrtJ-GSBWmB2"
      },
      "outputs": [],
      "source": [
        "#Train-Test split\n",
        "X_train, X_test, y_train, y_test = train_test_split(X_final, y_final, test_size=0.2, random_state=42) \n",
        "#Train-Validation split\n",
        "X_train, X_val, y_train, y_val = train_test_split(X_train, y_train, test_size=0.15, random_state=21)"
      ]
    },
    {
      "cell_type": "code",
      "execution_count": null,
      "metadata": {
        "id": "YARDZxIZWmB2",
        "colab": {
          "base_uri": "https://localhost:8080/"
        },
        "outputId": "b6d5b9ef-73c5-43d5-d8f3-82712d6aae6b"
      },
      "outputs": [
        {
          "output_type": "stream",
          "name": "stdout",
          "text": [
            "Model: \"sequential\"\n",
            "_________________________________________________________________\n",
            " Layer (type)                Output Shape              Param #   \n",
            "=================================================================\n",
            " embedding (Embedding)       (None, None, 100)         2858600   \n",
            "                                                                 \n",
            " dropout (Dropout)           (None, None, 100)         0         \n",
            "                                                                 \n",
            " bidirectional (Bidirectiona  (None, 128)              84480     \n",
            " l)                                                              \n",
            "                                                                 \n",
            " dropout_1 (Dropout)         (None, 128)               0         \n",
            "                                                                 \n",
            " dense (Dense)               (None, 64)                8256      \n",
            "                                                                 \n",
            " dropout_2 (Dropout)         (None, 64)                0         \n",
            "                                                                 \n",
            " dense_1 (Dense)             (None, 8)                 520       \n",
            "                                                                 \n",
            "=================================================================\n",
            "Total params: 2,951,856\n",
            "Trainable params: 2,951,856\n",
            "Non-trainable params: 0\n",
            "_________________________________________________________________\n"
          ]
        }
      ],
      "source": [
        "# Creating model\n",
        "model=Sequential()\n",
        "model.add(Embedding(voc_size, embedding_dim, weights=[embedding_matrix_vocab]))\n",
        "model.add(Dropout(0.20))\n",
        "model.add(Bidirectional(LSTM(64)))\n",
        "model.add(Dropout(0.20))\n",
        "model.add(Dense(64, activation='relu',kernel_regularizer=tf.keras.regularizers.l1(0.01))) #L1 regularization\n",
        "model.add(Dropout(0.20))\n",
        "model.add(Dense(8,activation='softmax'))\n",
        "model.compile(loss='sparse_categorical_crossentropy',optimizer= tf.keras.optimizers.Adam(learning_rate=0.001),metrics=['accuracy'])\n",
        "model.summary()"
      ]
    },
    {
      "cell_type": "code",
      "execution_count": null,
      "metadata": {
        "colab": {
          "base_uri": "https://localhost:8080/"
        },
        "id": "5OVdEN26WmB3",
        "outputId": "a9dc08fa-0f6b-4ed6-8fab-15ae024d1e91"
      },
      "outputs": [
        {
          "output_type": "stream",
          "name": "stdout",
          "text": [
            "Epoch 1/50\n",
            "370/370 [==============================] - ETA: 0s - loss: 3.0761 - accuracy: 0.3197\n",
            "Epoch 1: val_loss improved from inf to 1.76761, saving model to weights.h5\n",
            "370/370 [==============================] - 107s 279ms/step - loss: 3.0761 - accuracy: 0.3197 - val_loss: 1.7676 - val_accuracy: 0.3533\n",
            "Epoch 2/50\n",
            "370/370 [==============================] - ETA: 0s - loss: 1.6598 - accuracy: 0.4017\n",
            "Epoch 2: val_loss improved from 1.76761 to 1.58235, saving model to weights.h5\n",
            "370/370 [==============================] - 91s 245ms/step - loss: 1.6598 - accuracy: 0.4017 - val_loss: 1.5823 - val_accuracy: 0.4704\n",
            "Epoch 3/50\n",
            "370/370 [==============================] - ETA: 0s - loss: 1.4787 - accuracy: 0.5073\n",
            "Epoch 3: val_loss improved from 1.58235 to 1.48835, saving model to weights.h5\n",
            "370/370 [==============================] - 94s 255ms/step - loss: 1.4787 - accuracy: 0.5073 - val_loss: 1.4883 - val_accuracy: 0.5176\n",
            "Epoch 4/50\n",
            "370/370 [==============================] - ETA: 0s - loss: 1.3421 - accuracy: 0.5804\n",
            "Epoch 4: val_loss improved from 1.48835 to 1.43583, saving model to weights.h5\n",
            "370/370 [==============================] - 92s 248ms/step - loss: 1.3421 - accuracy: 0.5804 - val_loss: 1.4358 - val_accuracy: 0.5499\n",
            "Epoch 5/50\n",
            "370/370 [==============================] - ETA: 0s - loss: 1.2288 - accuracy: 0.6379\n",
            "Epoch 5: val_loss improved from 1.43583 to 1.40554, saving model to weights.h5\n",
            "370/370 [==============================] - 95s 256ms/step - loss: 1.2288 - accuracy: 0.6379 - val_loss: 1.4055 - val_accuracy: 0.5657\n",
            "Epoch 6/50\n",
            "370/370 [==============================] - ETA: 0s - loss: 1.1334 - accuracy: 0.6812\n",
            "Epoch 6: val_loss improved from 1.40554 to 1.38079, saving model to weights.h5\n",
            "370/370 [==============================] - 92s 248ms/step - loss: 1.1334 - accuracy: 0.6812 - val_loss: 1.3808 - val_accuracy: 0.5804\n",
            "Epoch 7/50\n",
            "370/370 [==============================] - ETA: 0s - loss: 1.0356 - accuracy: 0.7195\n",
            "Epoch 7: val_loss did not improve from 1.38079\n",
            "370/370 [==============================] - 92s 249ms/step - loss: 1.0356 - accuracy: 0.7195 - val_loss: 1.4073 - val_accuracy: 0.5885\n",
            "Epoch 8/50\n",
            "370/370 [==============================] - ETA: 0s - loss: 0.9515 - accuracy: 0.7522\n",
            "Epoch 8: val_loss did not improve from 1.38079\n",
            "370/370 [==============================] - 94s 254ms/step - loss: 0.9515 - accuracy: 0.7522 - val_loss: 1.4219 - val_accuracy: 0.5816\n",
            "Epoch 9/50\n",
            "370/370 [==============================] - ETA: 0s - loss: 0.8801 - accuracy: 0.7798\n",
            "Epoch 9: val_loss did not improve from 1.38079\n",
            "370/370 [==============================] - 92s 248ms/step - loss: 0.8801 - accuracy: 0.7798 - val_loss: 1.4616 - val_accuracy: 0.5820\n",
            "Epoch 10/50\n",
            "370/370 [==============================] - ETA: 0s - loss: 0.8265 - accuracy: 0.7958\n",
            "Epoch 10: val_loss did not improve from 1.38079\n",
            "370/370 [==============================] - 97s 262ms/step - loss: 0.8265 - accuracy: 0.7958 - val_loss: 1.4898 - val_accuracy: 0.5902\n",
            "Epoch 11/50\n",
            "370/370 [==============================] - ETA: 0s - loss: 0.7815 - accuracy: 0.8094\n",
            "Epoch 11: val_loss did not improve from 1.38079\n",
            "370/370 [==============================] - 96s 261ms/step - loss: 0.7815 - accuracy: 0.8094 - val_loss: 1.5303 - val_accuracy: 0.5842\n",
            "Epoch 12/50\n",
            "370/370 [==============================] - ETA: 0s - loss: 0.7362 - accuracy: 0.8250\n",
            "Epoch 12: val_loss did not improve from 1.38079\n",
            "370/370 [==============================] - 102s 276ms/step - loss: 0.7362 - accuracy: 0.8250 - val_loss: 1.5431 - val_accuracy: 0.5911\n",
            "Epoch 13/50\n",
            "370/370 [==============================] - ETA: 0s - loss: 0.6960 - accuracy: 0.8369\n",
            "Epoch 13: val_loss did not improve from 1.38079\n",
            "370/370 [==============================] - 101s 274ms/step - loss: 0.6960 - accuracy: 0.8369 - val_loss: 1.5326 - val_accuracy: 0.5978\n",
            "Epoch 14/50\n",
            "370/370 [==============================] - ETA: 0s - loss: 0.6561 - accuracy: 0.8454\n",
            "Epoch 14: val_loss did not improve from 1.38079\n",
            "370/370 [==============================] - 100s 271ms/step - loss: 0.6561 - accuracy: 0.8454 - val_loss: 1.5820 - val_accuracy: 0.5899\n",
            "Epoch 15/50\n",
            "370/370 [==============================] - ETA: 0s - loss: 0.6270 - accuracy: 0.8554\n",
            "Epoch 15: val_loss did not improve from 1.38079\n",
            "370/370 [==============================] - 96s 260ms/step - loss: 0.6270 - accuracy: 0.8554 - val_loss: 1.6333 - val_accuracy: 0.5840\n",
            "Epoch 16/50\n",
            "370/370 [==============================] - ETA: 0s - loss: 0.5996 - accuracy: 0.8612\n",
            "Epoch 16: val_loss did not improve from 1.38079\n",
            "370/370 [==============================] - 97s 262ms/step - loss: 0.5996 - accuracy: 0.8612 - val_loss: 1.6701 - val_accuracy: 0.5895\n",
            "Epoch 17/50\n",
            "370/370 [==============================] - ETA: 0s - loss: 0.5684 - accuracy: 0.8692\n",
            "Epoch 17: val_loss did not improve from 1.38079\n",
            "370/370 [==============================] - 96s 261ms/step - loss: 0.5684 - accuracy: 0.8692 - val_loss: 1.7314 - val_accuracy: 0.5866\n",
            "Epoch 18/50\n",
            "370/370 [==============================] - ETA: 0s - loss: 0.5394 - accuracy: 0.8797\n",
            "Epoch 18: val_loss did not improve from 1.38079\n",
            "370/370 [==============================] - 96s 259ms/step - loss: 0.5394 - accuracy: 0.8797 - val_loss: 1.7187 - val_accuracy: 0.5863\n",
            "Epoch 19/50\n",
            "370/370 [==============================] - ETA: 0s - loss: 0.5146 - accuracy: 0.8879\n",
            "Epoch 19: val_loss did not improve from 1.38079\n",
            "370/370 [==============================] - 98s 264ms/step - loss: 0.5146 - accuracy: 0.8879 - val_loss: 1.7405 - val_accuracy: 0.5813\n",
            "Epoch 20/50\n",
            "370/370 [==============================] - ETA: 0s - loss: 0.4966 - accuracy: 0.8910\n",
            "Epoch 20: val_loss did not improve from 1.38079\n",
            "370/370 [==============================] - 97s 262ms/step - loss: 0.4966 - accuracy: 0.8910 - val_loss: 1.7626 - val_accuracy: 0.5835\n",
            "Epoch 21/50\n",
            "370/370 [==============================] - ETA: 0s - loss: 0.4696 - accuracy: 0.9008\n",
            "Epoch 21: val_loss did not improve from 1.38079\n",
            "370/370 [==============================] - 101s 273ms/step - loss: 0.4696 - accuracy: 0.9008 - val_loss: 1.8666 - val_accuracy: 0.5859\n",
            "Epoch 22/50\n",
            "370/370 [==============================] - ETA: 0s - loss: 0.4538 - accuracy: 0.9066\n",
            "Epoch 22: val_loss did not improve from 1.38079\n",
            "370/370 [==============================] - 96s 260ms/step - loss: 0.4538 - accuracy: 0.9066 - val_loss: 1.8538 - val_accuracy: 0.5801\n",
            "Epoch 23/50\n",
            "370/370 [==============================] - ETA: 0s - loss: 0.4354 - accuracy: 0.9117\n",
            "Epoch 23: val_loss did not improve from 1.38079\n",
            "370/370 [==============================] - 97s 262ms/step - loss: 0.4354 - accuracy: 0.9117 - val_loss: 1.8537 - val_accuracy: 0.5823\n",
            "Epoch 24/50\n",
            "370/370 [==============================] - ETA: 0s - loss: 0.4188 - accuracy: 0.9160\n",
            "Epoch 24: val_loss did not improve from 1.38079\n",
            "370/370 [==============================] - 93s 252ms/step - loss: 0.4188 - accuracy: 0.9160 - val_loss: 1.9363 - val_accuracy: 0.5801\n",
            "Epoch 25/50\n",
            "370/370 [==============================] - ETA: 0s - loss: 0.4021 - accuracy: 0.9208\n",
            "Epoch 25: val_loss did not improve from 1.38079\n",
            "370/370 [==============================] - 90s 244ms/step - loss: 0.4021 - accuracy: 0.9208 - val_loss: 1.9157 - val_accuracy: 0.5851\n",
            "Epoch 26/50\n",
            "370/370 [==============================] - ETA: 0s - loss: 0.3895 - accuracy: 0.9251\n",
            "Epoch 26: val_loss did not improve from 1.38079\n",
            "370/370 [==============================] - 92s 248ms/step - loss: 0.3895 - accuracy: 0.9251 - val_loss: 1.9929 - val_accuracy: 0.5895\n",
            "Epoch 27/50\n",
            "370/370 [==============================] - ETA: 0s - loss: 0.3758 - accuracy: 0.9278\n",
            "Epoch 27: val_loss did not improve from 1.38079\n",
            "370/370 [==============================] - 95s 256ms/step - loss: 0.3758 - accuracy: 0.9278 - val_loss: 1.9690 - val_accuracy: 0.5799\n",
            "Epoch 28/50\n",
            "370/370 [==============================] - ETA: 0s - loss: 0.3567 - accuracy: 0.9320\n",
            "Epoch 28: val_loss did not improve from 1.38079\n",
            "370/370 [==============================] - 92s 250ms/step - loss: 0.3567 - accuracy: 0.9320 - val_loss: 2.1237 - val_accuracy: 0.5856\n",
            "Epoch 29/50\n",
            "370/370 [==============================] - ETA: 0s - loss: 0.3464 - accuracy: 0.9369\n",
            "Epoch 29: val_loss did not improve from 1.38079\n",
            "370/370 [==============================] - 90s 243ms/step - loss: 0.3464 - accuracy: 0.9369 - val_loss: 2.0456 - val_accuracy: 0.5847\n",
            "Epoch 30/50\n",
            "370/370 [==============================] - ETA: 0s - loss: 0.3358 - accuracy: 0.9396\n",
            "Epoch 30: val_loss did not improve from 1.38079\n",
            "370/370 [==============================] - 91s 245ms/step - loss: 0.3358 - accuracy: 0.9396 - val_loss: 2.0830 - val_accuracy: 0.5859\n",
            "Epoch 31/50\n",
            "370/370 [==============================] - ETA: 0s - loss: 0.3272 - accuracy: 0.9418\n",
            "Epoch 31: val_loss did not improve from 1.38079\n",
            "370/370 [==============================] - 92s 249ms/step - loss: 0.3272 - accuracy: 0.9418 - val_loss: 2.1277 - val_accuracy: 0.5840\n",
            "Epoch 32/50\n",
            "370/370 [==============================] - ETA: 0s - loss: 0.3197 - accuracy: 0.9413\n",
            "Epoch 32: val_loss did not improve from 1.38079\n",
            "370/370 [==============================] - 91s 247ms/step - loss: 0.3197 - accuracy: 0.9413 - val_loss: 2.1249 - val_accuracy: 0.5868\n",
            "Epoch 33/50\n",
            "370/370 [==============================] - ETA: 0s - loss: 0.3026 - accuracy: 0.9472\n",
            "Epoch 33: val_loss did not improve from 1.38079\n",
            "370/370 [==============================] - 92s 249ms/step - loss: 0.3026 - accuracy: 0.9472 - val_loss: 2.1409 - val_accuracy: 0.5868\n",
            "Epoch 34/50\n",
            "370/370 [==============================] - ETA: 0s - loss: 0.2941 - accuracy: 0.9490\n",
            "Epoch 34: val_loss did not improve from 1.38079\n",
            "370/370 [==============================] - 89s 242ms/step - loss: 0.2941 - accuracy: 0.9490 - val_loss: 2.1885 - val_accuracy: 0.5859\n",
            "Epoch 35/50\n",
            "370/370 [==============================] - ETA: 0s - loss: 0.2884 - accuracy: 0.9508\n",
            "Epoch 35: val_loss did not improve from 1.38079\n",
            "370/370 [==============================] - 90s 242ms/step - loss: 0.2884 - accuracy: 0.9508 - val_loss: 2.2215 - val_accuracy: 0.5818\n",
            "Epoch 36/50\n",
            "370/370 [==============================] - ETA: 0s - loss: 0.2800 - accuracy: 0.9533\n",
            "Epoch 36: val_loss did not improve from 1.38079\n",
            "370/370 [==============================] - 93s 251ms/step - loss: 0.2800 - accuracy: 0.9533 - val_loss: 2.2060 - val_accuracy: 0.5832\n",
            "Epoch 37/50\n",
            "370/370 [==============================] - ETA: 0s - loss: 0.2780 - accuracy: 0.9532\n",
            "Epoch 37: val_loss did not improve from 1.38079\n",
            "370/370 [==============================] - 89s 241ms/step - loss: 0.2780 - accuracy: 0.9532 - val_loss: 2.2030 - val_accuracy: 0.5861\n",
            "Epoch 38/50\n",
            "370/370 [==============================] - ETA: 0s - loss: 0.2637 - accuracy: 0.9561\n",
            "Epoch 38: val_loss did not improve from 1.38079\n",
            "370/370 [==============================] - 92s 248ms/step - loss: 0.2637 - accuracy: 0.9561 - val_loss: 2.3269 - val_accuracy: 0.5859\n",
            "Epoch 39/50\n",
            "370/370 [==============================] - ETA: 0s - loss: 0.2591 - accuracy: 0.9596\n",
            "Epoch 39: val_loss did not improve from 1.38079\n",
            "370/370 [==============================] - 90s 244ms/step - loss: 0.2591 - accuracy: 0.9596 - val_loss: 2.3425 - val_accuracy: 0.5782\n",
            "Epoch 40/50\n",
            "370/370 [==============================] - ETA: 0s - loss: 0.2565 - accuracy: 0.9590\n",
            "Epoch 40: val_loss did not improve from 1.38079\n",
            "370/370 [==============================] - 90s 243ms/step - loss: 0.2565 - accuracy: 0.9590 - val_loss: 2.2869 - val_accuracy: 0.5796\n",
            "Epoch 41/50\n",
            "370/370 [==============================] - ETA: 0s - loss: 0.2474 - accuracy: 0.9628\n",
            "Epoch 41: val_loss did not improve from 1.38079\n",
            "370/370 [==============================] - 92s 248ms/step - loss: 0.2474 - accuracy: 0.9628 - val_loss: 2.3005 - val_accuracy: 0.5844\n",
            "Epoch 42/50\n",
            "370/370 [==============================] - ETA: 0s - loss: 0.2415 - accuracy: 0.9624\n",
            "Epoch 42: val_loss did not improve from 1.38079\n",
            "370/370 [==============================] - 90s 244ms/step - loss: 0.2415 - accuracy: 0.9624 - val_loss: 2.3840 - val_accuracy: 0.5837\n",
            "Epoch 43/50\n",
            "370/370 [==============================] - ETA: 0s - loss: 0.2393 - accuracy: 0.9630\n",
            "Epoch 43: val_loss did not improve from 1.38079\n",
            "370/370 [==============================] - 95s 257ms/step - loss: 0.2393 - accuracy: 0.9630 - val_loss: 2.4311 - val_accuracy: 0.5835\n",
            "Epoch 44/50\n",
            "370/370 [==============================] - ETA: 0s - loss: 0.2305 - accuracy: 0.9646\n",
            "Epoch 44: val_loss did not improve from 1.38079\n",
            "370/370 [==============================] - 98s 264ms/step - loss: 0.2305 - accuracy: 0.9646 - val_loss: 2.4057 - val_accuracy: 0.5828\n",
            "Epoch 45/50\n",
            "370/370 [==============================] - ETA: 0s - loss: 0.2271 - accuracy: 0.9654\n",
            "Epoch 45: val_loss did not improve from 1.38079\n",
            "370/370 [==============================] - 97s 263ms/step - loss: 0.2271 - accuracy: 0.9654 - val_loss: 2.4235 - val_accuracy: 0.5818\n",
            "Epoch 46/50\n",
            "370/370 [==============================] - ETA: 0s - loss: 0.2216 - accuracy: 0.9666\n",
            "Epoch 46: val_loss did not improve from 1.38079\n",
            "370/370 [==============================] - 93s 252ms/step - loss: 0.2216 - accuracy: 0.9666 - val_loss: 2.4100 - val_accuracy: 0.5811\n",
            "Epoch 47/50\n",
            "370/370 [==============================] - ETA: 0s - loss: 0.2245 - accuracy: 0.9667\n",
            "Epoch 47: val_loss did not improve from 1.38079\n",
            "370/370 [==============================] - 104s 280ms/step - loss: 0.2245 - accuracy: 0.9667 - val_loss: 2.3913 - val_accuracy: 0.5806\n",
            "Epoch 48/50\n",
            "370/370 [==============================] - ETA: 0s - loss: 0.2205 - accuracy: 0.9676\n",
            "Epoch 48: val_loss did not improve from 1.38079\n",
            "370/370 [==============================] - 104s 282ms/step - loss: 0.2205 - accuracy: 0.9676 - val_loss: 2.4650 - val_accuracy: 0.5887\n",
            "Epoch 49/50\n",
            "370/370 [==============================] - ETA: 0s - loss: 0.2116 - accuracy: 0.9684\n",
            "Epoch 49: val_loss did not improve from 1.38079\n",
            "370/370 [==============================] - 103s 278ms/step - loss: 0.2116 - accuracy: 0.9684 - val_loss: 2.4463 - val_accuracy: 0.5796\n",
            "Epoch 50/50\n",
            "370/370 [==============================] - ETA: 0s - loss: 0.2054 - accuracy: 0.9718\n",
            "Epoch 50: val_loss did not improve from 1.38079\n",
            "370/370 [==============================] - 103s 279ms/step - loss: 0.2054 - accuracy: 0.9718 - val_loss: 2.5252 - val_accuracy: 0.5799\n"
          ]
        }
      ],
      "source": [
        "model_save = ModelCheckpoint('weights.h5', save_best_only = True, save_weights_only = True, monitor = 'val_loss', mode = 'min', verbose = 1)\n",
        "history = model.fit(X_train,y_train,validation_data=(X_val,y_val),epochs=50,batch_size=64,callbacks = [model_save])"
      ]
    },
    {
      "cell_type": "code",
      "execution_count": null,
      "metadata": {
        "colab": {
          "base_uri": "https://localhost:8080/",
          "height": 590
        },
        "id": "G6wdoPYBWmB3",
        "outputId": "819d048c-6466-41a4-9589-9fa14ed43dd5"
      },
      "outputs": [
        {
          "output_type": "stream",
          "name": "stdout",
          "text": [
            "dict_keys(['loss', 'accuracy', 'val_loss', 'val_accuracy'])\n"
          ]
        },
        {
          "output_type": "display_data",
          "data": {
            "text/plain": [
              "<Figure size 432x288 with 1 Axes>"
            ],
            "image/png": "[encoded data removed]"
          },
          "metadata": {
            "needs_background": "light"
          }
        },
        {
          "output_type": "display_data",
          "data": {
            "text/plain": [
              "<Figure size 432x288 with 1 Axes>"
            ],
            "image/png": "[encoded data removed]"
          },
          "metadata": {
            "needs_background": "light"
          }
        }
      ],
      "source": [
        "print(history.history.keys())\n",
        "#  \"Accuracy\"\n",
        "plt.plot(history.history['accuracy'])\n",
        "plt.plot(history.history['val_accuracy'])\n",
        "plt.title('model accuracy')\n",
        "plt.ylabel('accuracy')\n",
        "plt.xlabel('epoch')\n",
        "plt.legend(['train', 'validation'], loc='upper left')\n",
        "plt.show()\n",
        "# \"Loss\"\n",
        "plt.plot(history.history['loss'])\n",
        "plt.plot(history.history['val_loss'])\n",
        "plt.title('model loss')\n",
        "plt.ylabel('loss')\n",
        "plt.xlabel('epoch')\n",
        "plt.legend(['train', 'validation'], loc='upper left')\n",
        "plt.show()"
      ]
    },
    {
      "cell_type": "code",
      "execution_count": null,
      "metadata": {
        "id": "5AkjSH-XWmB4"
      },
      "outputs": [],
      "source": [
        "#Load the best weights\n",
        "model.load_weights('weights.h5')"
      ]
    },
    {
      "cell_type": "code",
      "execution_count": null,
      "metadata": {
        "id": "2NLQc85wWmB4",
        "colab": {
          "base_uri": "https://localhost:8080/"
        },
        "outputId": "95e8c4e5-4025-4a05-a50e-69a805e07e68"
      },
      "outputs": [
        {
          "output_type": "stream",
          "name": "stdout",
          "text": [
            "218/218 [==============================] - 7s 30ms/step\n",
            "[5 0 5 ... 7 2 2]\n",
            "740/740 [==============================] - 24s 32ms/step\n",
            "[3 3 0 ... 7 3 5]\n",
            "131/131 [==============================] - 4s 32ms/step\n",
            "[3 7 0 ... 5 3 0]\n"
          ]
        }
      ],
      "source": [
        "y_pred_test=model.predict(X_test).argmax(axis=1)  \n",
        "print(y_pred_test)\n",
        "y_pred_train=model.predict(X_train).argmax(axis=1)\n",
        "print(y_pred_train)\n",
        "y_pred_val=model.predict(X_val).argmax(axis=1)\n",
        "print(y_pred_val)"
      ]
    },
    {
      "cell_type": "code",
      "execution_count": null,
      "metadata": {
        "id": "xinOarVoWmB4",
        "colab": {
          "base_uri": "https://localhost:8080/"
        },
        "outputId": "6023c132-661f-4ead-8729-b0f91d4269c9"
      },
      "outputs": [
        {
          "output_type": "stream",
          "name": "stdout",
          "text": [
            "Training accuracy:  0.7699721024600558\n",
            "Testing accuracy:  0.5858600373616899\n",
            "Validation accuracy:  0.5803592814371258\n"
          ]
        }
      ],
      "source": [
        "#Accuracy score\n",
        "print(\"Training accuracy: \",accuracy_score(y_train,y_pred_train))\n",
        "print(\"Testing accuracy: \",accuracy_score(y_test,y_pred_test))\n",
        "print(\"Validation accuracy: \",accuracy_score(y_val,y_pred_val))"
      ]
    },
    {
      "cell_type": "code",
      "execution_count": null,
      "metadata": {
        "id": "5-DBlVK6WmB4",
        "colab": {
          "base_uri": "https://localhost:8080/"
        },
        "outputId": "d2b953e9-9431-43cd-d248-48b3275aabb8"
      },
      "outputs": [
        {
          "output_type": "stream",
          "name": "stdout",
          "text": [
            "              precision    recall  f1-score   support\n",
            "\n",
            "           0    0.48117   0.55024   0.51339       836\n",
            "           1    0.00000   0.00000   0.00000       202\n",
            "           2    0.71298   0.63678   0.67273      1104\n",
            "           3    0.64399   0.71816   0.67905      2214\n",
            "           4    0.73638   0.70270   0.71915       481\n",
            "           5    0.48669   0.53730   0.51074      1327\n",
            "           6    0.00000   0.00000   0.00000        23\n",
            "           7    0.43750   0.35363   0.39112       772\n",
            "\n",
            "    accuracy                        0.58586      6959\n",
            "   macro avg    0.43734   0.43735   0.43577      6959\n",
            "weighted avg    0.56804   0.58586   0.57493      6959\n",
            "\n"
          ]
        },
        {
          "output_type": "stream",
          "name": "stderr",
          "text": [
            "/usr/local/lib/python3.7/dist-packages/sklearn/metrics/_classification.py:1318: UndefinedMetricWarning: Precision and F-score are ill-defined and being set to 0.0 in labels with no predicted samples. Use `zero_division` parameter to control this behavior.\n",
            "  _warn_prf(average, modifier, msg_start, len(result))\n",
            "/usr/local/lib/python3.7/dist-packages/sklearn/metrics/_classification.py:1318: UndefinedMetricWarning: Precision and F-score are ill-defined and being set to 0.0 in labels with no predicted samples. Use `zero_division` parameter to control this behavior.\n",
            "  _warn_prf(average, modifier, msg_start, len(result))\n",
            "/usr/local/lib/python3.7/dist-packages/sklearn/metrics/_classification.py:1318: UndefinedMetricWarning: Precision and F-score are ill-defined and being set to 0.0 in labels with no predicted samples. Use `zero_division` parameter to control this behavior.\n",
            "  _warn_prf(average, modifier, msg_start, len(result))\n"
          ]
        }
      ],
      "source": [
        "#Classification report\n",
        "print(classification_report(y_test, y_pred_test, digits=5))"
      ]
    },
    {
      "cell_type": "code",
      "execution_count": null,
      "metadata": {
        "id": "E80rYZWcWmB4",
        "colab": {
          "base_uri": "https://localhost:8080/",
          "height": 300
        },
        "outputId": "39d7d793-56b5-4895-f561-c2bedc993b8b"
      },
      "outputs": [
        {
          "output_type": "stream",
          "name": "stdout",
          "text": [
            "Confusion Matrix\n",
            "AxesSubplot(0.125,0.125;0.62x0.755)\n"
          ]
        },
        {
          "output_type": "display_data",
          "data": {
            "text/plain": [
              "<Figure size 432x288 with 2 Axes>"
            ],
            "image/png": "[encoded data removed]"
          },
          "metadata": {
            "needs_background": "light"
          }
        }
      ],
      "source": [
        "#Confusion Matrix\n",
        "print('Confusion Matrix')\n",
        "print(sns.heatmap(confusion_matrix(y_test, y_pred_test),annot=True,fmt=\"d\"))"
      ]
    },
    {
      "cell_type": "code",
      "execution_count": null,
      "metadata": {
        "id": "FfFwPXpSWmB5",
        "colab": {
          "base_uri": "https://localhost:8080/"
        },
        "outputId": "aa46cae8-b136-4687-9ded-bf5b52c55c4a"
      },
      "outputs": [
        {
          "output_type": "stream",
          "name": "stdout",
          "text": [
            "{'anger': 0, 'disgust': 1, 'fear': 2, 'joy': 3, 'neutral': 4, 'sadness': 5, 'shame': 6, 'surprise': 7}\n"
          ]
        }
      ],
      "source": [
        "#Mapping of target classes using label-encoder\n",
        "le_name_mapping = dict(zip(label_encoder.classes_, label_encoder.transform(label_encoder.classes_)))\n",
        "print(le_name_mapping)"
      ]
    },
    {
      "cell_type": "code",
      "execution_count": null,
      "metadata": {
        "id": "agl_PRwLWmB5"
      },
      "outputs": [],
      "source": [
        "#Example\n",
        "def predict_emotion(stri):\n",
        "    review = re.sub('[^a-zA-Z]', ' ', stri)\n",
        "    review = review.lower()\n",
        "    review = review.split()\n",
        "    review = [ps.stem(word) for word in review if not word in stopwords.words('english')]\n",
        "    review = ' '.join(review)\n",
        "    onehot_repr = [one_hot(review,voc_size)] \n",
        "    embed = pad_sequences(onehot_repr,padding='pre',maxlen=sent_length)\n",
        "    predicti = model.predict(embed)\n",
        "    return label_encoder.classes_[np.argmax(predicti)]"
      ]
    },
    {
      "cell_type": "code",
      "execution_count": null,
      "metadata": {
        "id": "W-PQwgm6WmB5",
        "colab": {
          "base_uri": "https://localhost:8080/",
          "height": 53
        },
        "outputId": "6520f215-2f3b-4d75-fb2b-00a1ede05b24"
      },
      "outputs": [
        {
          "output_type": "stream",
          "name": "stdout",
          "text": [
            "1/1 [==============================] - 0s 77ms/step\n"
          ]
        },
        {
          "output_type": "execute_result",
          "data": {
            "text/plain": [
              "'joy'"
            ],
            "application/vnd.google.colaboratory.intrinsic+json": {
              "type": "string"
            }
          },
          "metadata": {},
          "execution_count": 27
        }
      ],
      "source": [
        "predict_emotion('I am very happy and joyful today')"
      ]
    },
    {
      "cell_type": "code",
      "execution_count": null,
      "metadata": {
        "id": "E-j1P3uJlaxb",
        "colab": {
          "base_uri": "https://localhost:8080/",
          "height": 53
        },
        "outputId": "e215d0c6-dc10-4034-b4c5-6c28bf53502b"
      },
      "outputs": [
        {
          "output_type": "stream",
          "name": "stdout",
          "text": [
            "1/1 [==============================] - 0s 59ms/step\n"
          ]
        },
        {
          "output_type": "execute_result",
          "data": {
            "text/plain": [
              "'joy'"
            ],
            "application/vnd.google.colaboratory.intrinsic+json": {
              "type": "string"
            }
          },
          "metadata": {},
          "execution_count": 28
        }
      ],
      "source": [
        "predict_emotion('today is beautiful')"
      ]
    },
    {
      "cell_type": "code",
      "source": [
        "predict_emotion('once in a while')"
      ],
      "metadata": {
        "colab": {
          "base_uri": "https://localhost:8080/",
          "height": 53
        },
        "id": "ofgKYIxD6Ucy",
        "outputId": "9c7667bd-dc53-4840-ebd4-7699030255e5"
      },
      "execution_count": null,
      "outputs": [
        {
          "output_type": "stream",
          "name": "stdout",
          "text": [
            "1/1 [==============================] - 0s 54ms/step\n"
          ]
        },
        {
          "output_type": "execute_result",
          "data": {
            "text/plain": [
              "'neutral'"
            ],
            "application/vnd.google.colaboratory.intrinsic+json": {
              "type": "string"
            }
          },
          "metadata": {},
          "execution_count": 29
        }
      ]
    },
    {
      "cell_type": "code",
      "source": [
        "predict_emotion('i almost foget hair loored looked mirror')"
      ],
      "metadata": {
        "colab": {
          "base_uri": "https://localhost:8080/",
          "height": 53
        },
        "id": "rTzvyf47O0m3",
        "outputId": "376269a1-e7bb-42bc-a78d-0da379002bea"
      },
      "execution_count": null,
      "outputs": [
        {
          "output_type": "stream",
          "name": "stdout",
          "text": [
            "1/1 [==============================] - 0s 63ms/step\n"
          ]
        },
        {
          "output_type": "execute_result",
          "data": {
            "text/plain": [
              "'sadness'"
            ],
            "application/vnd.google.colaboratory.intrinsic+json": {
              "type": "string"
            }
          },
          "metadata": {},
          "execution_count": 30
        }
      ]
    },
    {
      "cell_type": "code",
      "source": [
        "predict_emotion('ON THE WAY TO MY HOMEGIRL BABY FUNERAL!!! MAN I HATE FUNERALS THIS REALLY SHOWS ME HOW BLESSED I AM  ')"
      ],
      "metadata": {
        "colab": {
          "base_uri": "https://localhost:8080/",
          "height": 53
        },
        "id": "AUV7lzpQBiMZ",
        "outputId": "9cf05114-effc-4864-eadd-e0885e5f3e40"
      },
      "execution_count": null,
      "outputs": [
        {
          "output_type": "stream",
          "name": "stdout",
          "text": [
            "1/1 [==============================] - 0s 33ms/step\n"
          ]
        },
        {
          "output_type": "execute_result",
          "data": {
            "text/plain": [
              "'surprise'"
            ],
            "application/vnd.google.colaboratory.intrinsic+json": {
              "type": "string"
            }
          },
          "metadata": {},
          "execution_count": 31
        }
      ]
    },
    {
      "cell_type": "code",
      "source": [
        "predict_emotion('iam scary')"
      ],
      "metadata": {
        "colab": {
          "base_uri": "https://localhost:8080/",
          "height": 53
        },
        "id": "B8ya2yiwfZWD",
        "outputId": "addcd740-b134-4fc1-9e8d-8fc5aa83301e"
      },
      "execution_count": null,
      "outputs": [
        {
          "output_type": "stream",
          "name": "stdout",
          "text": [
            "1/1 [==============================] - 0s 31ms/step\n"
          ]
        },
        {
          "output_type": "execute_result",
          "data": {
            "text/plain": [
              "'fear'"
            ],
            "application/vnd.google.colaboratory.intrinsic+json": {
              "type": "string"
            }
          },
          "metadata": {},
          "execution_count": 32
        }
      ]
    },
    {
      "cell_type": "code",
      "source": [
        "predict_emotion('I was riding with a friend in his car. At a speed of 120 km/h on the snow-covered motorway I would have liked to get out.')#fear"
      ],
      "metadata": {
        "colab": {
          "base_uri": "https://localhost:8080/",
          "height": 53
        },
        "id": "7vypRSi_fofW",
        "outputId": "38a00a38-2eb0-4770-ab1e-383e4635275f"
      },
      "execution_count": null,
      "outputs": [
        {
          "output_type": "stream",
          "name": "stdout",
          "text": [
            "1/1 [==============================] - 0s 25ms/step\n"
          ]
        },
        {
          "output_type": "execute_result",
          "data": {
            "text/plain": [
              "'sadness'"
            ],
            "application/vnd.google.colaboratory.intrinsic+json": {
              "type": "string"
            }
          },
          "metadata": {},
          "execution_count": 33
        }
      ]
    },
    {
      "cell_type": "code",
      "source": [
        "predict_emotion('Few years ago my father was very ill. He stayed at a hospital for a long time. Then I experienced that terrible feeling that I might lose him.')"
      ],
      "metadata": {
        "colab": {
          "base_uri": "https://localhost:8080/",
          "height": 53
        },
        "id": "ppLxPzu5gn4Y",
        "outputId": "95c2d3d3-7d49-461e-f8ac-8e84b249662f"
      },
      "execution_count": null,
      "outputs": [
        {
          "output_type": "stream",
          "name": "stdout",
          "text": [
            "1/1 [==============================] - 0s 27ms/step\n"
          ]
        },
        {
          "output_type": "execute_result",
          "data": {
            "text/plain": [
              "'fear'"
            ],
            "application/vnd.google.colaboratory.intrinsic+json": {
              "type": "string"
            }
          },
          "metadata": {},
          "execution_count": 34
        }
      ]
    },
    {
      "cell_type": "code",
      "source": [
        "predict_emotion('I failed to play cricket.')\n"
      ],
      "metadata": {
        "colab": {
          "base_uri": "https://localhost:8080/",
          "height": 53
        },
        "id": "uzXbHo19gvgQ",
        "outputId": "ba58f0c7-6e30-4121-da86-391c0dc6fa6c"
      },
      "execution_count": null,
      "outputs": [
        {
          "output_type": "stream",
          "name": "stdout",
          "text": [
            "1/1 [==============================] - 0s 26ms/step\n"
          ]
        },
        {
          "output_type": "execute_result",
          "data": {
            "text/plain": [
              "'sadness'"
            ],
            "application/vnd.google.colaboratory.intrinsic+json": {
              "type": "string"
            }
          },
          "metadata": {},
          "execution_count": 35
        }
      ]
    },
    {
      "cell_type": "code",
      "source": [
        "predict_emotion(' No , I just check my weight , Iam getting fatter')\n",
        "#anger"
      ],
      "metadata": {
        "colab": {
          "base_uri": "https://localhost:8080/",
          "height": 53
        },
        "id": "5NZznW0pg0-C",
        "outputId": "90c5db5f-6cc8-4873-9b25-230073e1cd98"
      },
      "execution_count": null,
      "outputs": [
        {
          "output_type": "stream",
          "name": "stdout",
          "text": [
            "1/1 [==============================] - 0s 30ms/step\n"
          ]
        },
        {
          "output_type": "execute_result",
          "data": {
            "text/plain": [
              "'joy'"
            ],
            "application/vnd.google.colaboratory.intrinsic+json": {
              "type": "string"
            }
          },
          "metadata": {},
          "execution_count": 36
        }
      ]
    },
    {
      "cell_type": "code",
      "source": [
        "predict_emotion('friend was spreading negative rumours about me.')\n",
        "#sadness"
      ],
      "metadata": {
        "colab": {
          "base_uri": "https://localhost:8080/",
          "height": 53
        },
        "id": "i2UbAM4Pg0wq",
        "outputId": "9673bdb5-13ee-411f-85a3-6090230c8677"
      },
      "execution_count": null,
      "outputs": [
        {
          "output_type": "stream",
          "name": "stdout",
          "text": [
            "1/1 [==============================] - 0s 24ms/step\n"
          ]
        },
        {
          "output_type": "execute_result",
          "data": {
            "text/plain": [
              "'sadness'"
            ],
            "application/vnd.google.colaboratory.intrinsic+json": {
              "type": "string"
            }
          },
          "metadata": {},
          "execution_count": 37
        }
      ]
    },
    {
      "cell_type": "code",
      "source": [
        "predict_emotion('Before giving a seminar to a rather large audience.')\n",
        "#fear"
      ],
      "metadata": {
        "colab": {
          "base_uri": "https://localhost:8080/",
          "height": 53
        },
        "id": "vlljhp3Eg0kZ",
        "outputId": "89afdae6-5932-4274-d9c7-bda82df9273c"
      },
      "execution_count": null,
      "outputs": [
        {
          "output_type": "stream",
          "name": "stdout",
          "text": [
            "1/1 [==============================] - 0s 30ms/step\n"
          ]
        },
        {
          "output_type": "execute_result",
          "data": {
            "text/plain": [
              "'fear'"
            ],
            "application/vnd.google.colaboratory.intrinsic+json": {
              "type": "string"
            }
          },
          "metadata": {},
          "execution_count": 38
        }
      ]
    },
    {
      "cell_type": "code",
      "source": [
        "predict_emotion('friends dont recognize me')"
      ],
      "metadata": {
        "colab": {
          "base_uri": "https://localhost:8080/",
          "height": 53
        },
        "id": "NWa2xVIft8GX",
        "outputId": "0c06c56a-0017-433f-a59a-1a809e05d87b"
      },
      "execution_count": null,
      "outputs": [
        {
          "output_type": "stream",
          "name": "stdout",
          "text": [
            "1/1 [==============================] - 0s 24ms/step\n"
          ]
        },
        {
          "output_type": "execute_result",
          "data": {
            "text/plain": [
              "'sadness'"
            ],
            "application/vnd.google.colaboratory.intrinsic+json": {
              "type": "string"
            }
          },
          "metadata": {},
          "execution_count": 39
        }
      ]
    },
    {
      "cell_type": "code",
      "source": [
        "predict_emotion('iam very happy to give presentation')"
      ],
      "metadata": {
        "colab": {
          "base_uri": "https://localhost:8080/",
          "height": 53
        },
        "id": "STfZOopJudwU",
        "outputId": "b6f7f10a-ac14-448b-b56a-dd6081f2f815"
      },
      "execution_count": null,
      "outputs": [
        {
          "output_type": "stream",
          "name": "stdout",
          "text": [
            "1/1 [==============================] - 0s 33ms/step\n"
          ]
        },
        {
          "output_type": "execute_result",
          "data": {
            "text/plain": [
              "'joy'"
            ],
            "application/vnd.google.colaboratory.intrinsic+json": {
              "type": "string"
            }
          },
          "metadata": {},
          "execution_count": 40
        }
      ]
    }
  ],
  "metadata": {
    "colab": {
      "provenance": []
    },
    "kernelspec": {
      "display_name": "Python 3.9.6 64-bit",
      "language": "python",
      "name": "python3"
    },
    "language_info": {
      "codemirror_mode": {
        "name": "ipython",
        "version": 3
      },
      "file_extension": ".py",
      "mimetype": "text/x-python",
      "name": "python",
      "nbconvert_exporter": "python",
      "pygments_lexer": "ipython3",
      "version": "3.9.6"
    },
    "vscode": {
      "interpreter": {
        "hash": "65bab2dc8ad2a90119d332fecbb9761697c5100aab040e4d5b0de231f09892d2"
      }
    }
  },
  "nbformat": 4,
  "nbformat_minor": 0
}